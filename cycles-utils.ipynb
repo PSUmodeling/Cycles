{
 "cells": [
  {
   "cell_type": "markdown",
   "id": "986d651e",
   "metadata": {},
   "source": [
    "# Using Cycles-utils Python package for post processing\n",
    "\n",
    "[`Cycles-utils`](https://pypi.org/project/Cycles-utils/) is a Python package designed to facilitate Cycles agroecosystem model simulations.\n",
    "This package provides a number of tools for users to prepare Cycles simulation input files, run Cycles simulations, and post-process Cycles simulation results.\n",
    "\n",
    "The package can be installed using\n",
    "\n",
    "```shell\n",
    "pip install Cycles-utils\n",
    "```\n",
    "\n",
    "Please refer to the [documentation](https://psumodeling.github.io/Cycles-utils/) for details."
   ]
  },
  {
   "cell_type": "markdown",
   "id": "c6bd18d3",
   "metadata": {},
   "source": [
    "## Run multiple Cycles simulations using Cycles runner"
   ]
  },
  {
   "cell_type": "code",
   "execution_count": 1,
   "id": "c682fcf9",
   "metadata": {},
   "outputs": [
    {
     "name": "stdout",
     "output_type": "stream",
     "text": [
      "CornSoyWheatPasture_demo - Success\n",
      "ContinuousCorn_demo - Success\n"
     ]
    }
   ],
   "source": [
    "import pandas as pd\n",
    "from cycles import CyclesRunner\n",
    "\n",
    "CYCLES = './Cycles'\n",
    "\n",
    "YEAR_START=1981\n",
    "YEAR_END=2016\n",
    "\n",
    "simulation_name = lambda row: row['simulation']\n",
    "\n",
    "control_dict = lambda row: {\n",
    "    'simulation_start_date': YEAR_START,\n",
    "    'simulation_end_date': YEAR_END,\n",
    "    'rotation_size': row['rotation_years'],\n",
    "    'crop_file': 'GenericCrops.crop',\n",
    "    'operation_file': row['operation_file'],\n",
    "    'soil_file': 'GenericHagerstown.soil',\n",
    "    'weather_file': 'RockSprings.weather',\n",
    "}\n",
    "\n",
    "cycles_runner = CyclesRunner(\n",
    "    simulations=pd.read_csv('input/simulations.csv'),\n",
    "    summary='summary.csv',\n",
    "    simulation_name=simulation_name,\n",
    "    control_dict=control_dict,\n",
    ")\n",
    "\n",
    "cycles_runner.run(CYCLES, options='-s')"
   ]
  },
  {
   "cell_type": "markdown",
   "id": "c912e7d4",
   "metadata": {},
   "source": [
    "## Read harvest output"
   ]
  },
  {
   "cell_type": "code",
   "execution_count": 2,
   "id": "ad2b0aec",
   "metadata": {},
   "outputs": [
    {
     "data": {
      "application/vnd.microsoft.datawrangler.viewer.v0+json": {
       "columns": [
        {
         "name": "index",
         "rawType": "int64",
         "type": "integer"
        },
        {
         "name": "date",
         "rawType": "datetime64[ns]",
         "type": "datetime"
        },
        {
         "name": "crop",
         "rawType": "object",
         "type": "string"
        },
        {
         "name": "planting_date",
         "rawType": "object",
         "type": "string"
        },
        {
         "name": "total_biomass",
         "rawType": "float64",
         "type": "float"
        },
        {
         "name": "root_biomass",
         "rawType": "float64",
         "type": "float"
        },
        {
         "name": "grain_yield",
         "rawType": "float64",
         "type": "float"
        },
        {
         "name": "forage_yield",
         "rawType": "float64",
         "type": "float"
        },
        {
         "name": "aboveground_residue",
         "rawType": "float64",
         "type": "float"
        },
        {
         "name": "harvest_index",
         "rawType": "float64",
         "type": "float"
        },
        {
         "name": "potential_transpiration",
         "rawType": "float64",
         "type": "float"
        },
        {
         "name": "actual_transpiration",
         "rawType": "float64",
         "type": "float"
        },
        {
         "name": "soil_evaporation",
         "rawType": "float64",
         "type": "float"
        },
        {
         "name": "irrigation",
         "rawType": "float64",
         "type": "float"
        },
        {
         "name": "total_nitrogen",
         "rawType": "float64",
         "type": "float"
        },
        {
         "name": "root_nitrogen",
         "rawType": "float64",
         "type": "float"
        },
        {
         "name": "grain_nitrogen",
         "rawType": "float64",
         "type": "float"
        },
        {
         "name": "forage_nitrogen",
         "rawType": "float64",
         "type": "float"
        },
        {
         "name": "cumulative_nitrogen_stress",
         "rawType": "float64",
         "type": "float"
        },
        {
         "name": "nitrogen_in_harvest",
         "rawType": "float64",
         "type": "float"
        },
        {
         "name": "nitrogen_in_residue",
         "rawType": "float64",
         "type": "float"
        },
        {
         "name": "nitrogen_concentration_in_forage",
         "rawType": "float64",
         "type": "float"
        },
        {
         "name": "nitrogen_fixation",
         "rawType": "float64",
         "type": "float"
        },
        {
         "name": "nitrogen_auto_added",
         "rawType": "float64",
         "type": "float"
        }
       ],
       "ref": "f852d4b0-ad32-42d0-9d1f-a536ad7203e2",
       "rows": [
        [
         "0",
         "1981-09-18 00:00:00",
         "CornRM.90",
         "1981-04-25",
         "22.8819",
         "3.1917",
         "9.7736",
         "0.0",
         "9.9166",
         "0.4964",
         "351.6113",
         "346.3431",
         "180.1796",
         "0.0",
         "172.9068",
         "18.3081",
         "106.5389",
         "0.0",
         "0.1739",
         "106.5389",
         "48.0599",
         "0.0",
         "0.0",
         "0.0"
        ],
        [
         "1",
         "1982-10-17 00:00:00",
         "SoybeanMG.5",
         "1982-04-30",
         "15.7644",
         "1.8968",
         "5.1894",
         "0.0",
         "8.6783",
         "0.3742",
         "355.9223",
         "358.4503",
         "93.5562",
         "0.0",
         "381.28",
         "18.9876",
         "214.835",
         "0.0",
         "0.0",
         "214.835",
         "147.4573",
         "0.0",
         "292.4141",
         "0.0"
        ],
        [
         "2",
         "1983-06-21 00:00:00",
         "WinterWheat",
         "1982-10-15",
         "0.0003",
         "0.0",
         "0.0",
         "0.0",
         "0.0003",
         "0.0",
         "164.4539",
         "164.5079",
         "14.5176",
         "0.0",
         "0.0",
         "0.0",
         "0.0",
         "0.0",
         "0.117",
         "0.0",
         "0.0",
         "0.0",
         "0.0",
         "0.0"
        ],
        [
         "3",
         "1983-06-21 00:00:00",
         "LotusCorniculatus",
         "1983-03-16",
         "0.0621",
         "0.025",
         "0.0",
         "0.0352",
         "0.0019",
         "0.0",
         "4.1985",
         "4.1985",
         "4.7764",
         "0.0",
         "2.0474",
         "0.2815",
         "0.0",
         "1.6489",
         "0.0",
         "0.0",
         "0.3984",
         "4.6796",
         "5.609",
         "0.0"
        ],
        [
         "4",
         "1983-06-21 00:00:00",
         "WhiteClover",
         "1983-03-16",
         "0.1088",
         "0.044",
         "0.0",
         "0.0616",
         "0.0032",
         "0.0",
         "5.3329",
         "5.3329",
         "4.7764",
         "0.0",
         "3.6718",
         "0.4967",
         "0.0",
         "2.9706",
         "0.0",
         "0.0",
         "0.7012",
         "4.8251",
         "7.1169",
         "0.0"
        ]
       ],
       "shape": {
        "columns": 23,
        "rows": 5
       }
      },
      "text/html": [
       "<div>\n",
       "<style scoped>\n",
       "    .dataframe tbody tr th:only-of-type {\n",
       "        vertical-align: middle;\n",
       "    }\n",
       "\n",
       "    .dataframe tbody tr th {\n",
       "        vertical-align: top;\n",
       "    }\n",
       "\n",
       "    .dataframe thead th {\n",
       "        text-align: right;\n",
       "    }\n",
       "</style>\n",
       "<table border=\"1\" class=\"dataframe\">\n",
       "  <thead>\n",
       "    <tr style=\"text-align: right;\">\n",
       "      <th></th>\n",
       "      <th>date</th>\n",
       "      <th>crop</th>\n",
       "      <th>planting_date</th>\n",
       "      <th>total_biomass</th>\n",
       "      <th>root_biomass</th>\n",
       "      <th>grain_yield</th>\n",
       "      <th>forage_yield</th>\n",
       "      <th>aboveground_residue</th>\n",
       "      <th>harvest_index</th>\n",
       "      <th>potential_transpiration</th>\n",
       "      <th>...</th>\n",
       "      <th>total_nitrogen</th>\n",
       "      <th>root_nitrogen</th>\n",
       "      <th>grain_nitrogen</th>\n",
       "      <th>forage_nitrogen</th>\n",
       "      <th>cumulative_nitrogen_stress</th>\n",
       "      <th>nitrogen_in_harvest</th>\n",
       "      <th>nitrogen_in_residue</th>\n",
       "      <th>nitrogen_concentration_in_forage</th>\n",
       "      <th>nitrogen_fixation</th>\n",
       "      <th>nitrogen_auto_added</th>\n",
       "    </tr>\n",
       "  </thead>\n",
       "  <tbody>\n",
       "    <tr>\n",
       "      <th>0</th>\n",
       "      <td>1981-09-18</td>\n",
       "      <td>CornRM.90</td>\n",
       "      <td>1981-04-25</td>\n",
       "      <td>22.8819</td>\n",
       "      <td>3.1917</td>\n",
       "      <td>9.7736</td>\n",
       "      <td>0.0000</td>\n",
       "      <td>9.9166</td>\n",
       "      <td>0.4964</td>\n",
       "      <td>351.6113</td>\n",
       "      <td>...</td>\n",
       "      <td>172.9068</td>\n",
       "      <td>18.3081</td>\n",
       "      <td>106.5389</td>\n",
       "      <td>0.0000</td>\n",
       "      <td>0.1739</td>\n",
       "      <td>106.5389</td>\n",
       "      <td>48.0599</td>\n",
       "      <td>0.0000</td>\n",
       "      <td>0.0000</td>\n",
       "      <td>0.0</td>\n",
       "    </tr>\n",
       "    <tr>\n",
       "      <th>1</th>\n",
       "      <td>1982-10-17</td>\n",
       "      <td>SoybeanMG.5</td>\n",
       "      <td>1982-04-30</td>\n",
       "      <td>15.7644</td>\n",
       "      <td>1.8968</td>\n",
       "      <td>5.1894</td>\n",
       "      <td>0.0000</td>\n",
       "      <td>8.6783</td>\n",
       "      <td>0.3742</td>\n",
       "      <td>355.9223</td>\n",
       "      <td>...</td>\n",
       "      <td>381.2800</td>\n",
       "      <td>18.9876</td>\n",
       "      <td>214.8350</td>\n",
       "      <td>0.0000</td>\n",
       "      <td>0.0000</td>\n",
       "      <td>214.8350</td>\n",
       "      <td>147.4573</td>\n",
       "      <td>0.0000</td>\n",
       "      <td>292.4141</td>\n",
       "      <td>0.0</td>\n",
       "    </tr>\n",
       "    <tr>\n",
       "      <th>2</th>\n",
       "      <td>1983-06-21</td>\n",
       "      <td>WinterWheat</td>\n",
       "      <td>1982-10-15</td>\n",
       "      <td>0.0003</td>\n",
       "      <td>0.0000</td>\n",
       "      <td>0.0000</td>\n",
       "      <td>0.0000</td>\n",
       "      <td>0.0003</td>\n",
       "      <td>0.0000</td>\n",
       "      <td>164.4539</td>\n",
       "      <td>...</td>\n",
       "      <td>0.0000</td>\n",
       "      <td>0.0000</td>\n",
       "      <td>0.0000</td>\n",
       "      <td>0.0000</td>\n",
       "      <td>0.1170</td>\n",
       "      <td>0.0000</td>\n",
       "      <td>0.0000</td>\n",
       "      <td>0.0000</td>\n",
       "      <td>0.0000</td>\n",
       "      <td>0.0</td>\n",
       "    </tr>\n",
       "    <tr>\n",
       "      <th>3</th>\n",
       "      <td>1983-06-21</td>\n",
       "      <td>LotusCorniculatus</td>\n",
       "      <td>1983-03-16</td>\n",
       "      <td>0.0621</td>\n",
       "      <td>0.0250</td>\n",
       "      <td>0.0000</td>\n",
       "      <td>0.0352</td>\n",
       "      <td>0.0019</td>\n",
       "      <td>0.0000</td>\n",
       "      <td>4.1985</td>\n",
       "      <td>...</td>\n",
       "      <td>2.0474</td>\n",
       "      <td>0.2815</td>\n",
       "      <td>0.0000</td>\n",
       "      <td>1.6489</td>\n",
       "      <td>0.0000</td>\n",
       "      <td>0.0000</td>\n",
       "      <td>0.3984</td>\n",
       "      <td>4.6796</td>\n",
       "      <td>5.6090</td>\n",
       "      <td>0.0</td>\n",
       "    </tr>\n",
       "    <tr>\n",
       "      <th>4</th>\n",
       "      <td>1983-06-21</td>\n",
       "      <td>WhiteClover</td>\n",
       "      <td>1983-03-16</td>\n",
       "      <td>0.1088</td>\n",
       "      <td>0.0440</td>\n",
       "      <td>0.0000</td>\n",
       "      <td>0.0616</td>\n",
       "      <td>0.0032</td>\n",
       "      <td>0.0000</td>\n",
       "      <td>5.3329</td>\n",
       "      <td>...</td>\n",
       "      <td>3.6718</td>\n",
       "      <td>0.4967</td>\n",
       "      <td>0.0000</td>\n",
       "      <td>2.9706</td>\n",
       "      <td>0.0000</td>\n",
       "      <td>0.0000</td>\n",
       "      <td>0.7012</td>\n",
       "      <td>4.8251</td>\n",
       "      <td>7.1169</td>\n",
       "      <td>0.0</td>\n",
       "    </tr>\n",
       "  </tbody>\n",
       "</table>\n",
       "<p>5 rows × 23 columns</p>\n",
       "</div>"
      ],
      "text/plain": [
       "        date               crop planting_date  total_biomass  root_biomass  \\\n",
       "0 1981-09-18          CornRM.90    1981-04-25        22.8819        3.1917   \n",
       "1 1982-10-17        SoybeanMG.5    1982-04-30        15.7644        1.8968   \n",
       "2 1983-06-21        WinterWheat    1982-10-15         0.0003        0.0000   \n",
       "3 1983-06-21  LotusCorniculatus    1983-03-16         0.0621        0.0250   \n",
       "4 1983-06-21        WhiteClover    1983-03-16         0.1088        0.0440   \n",
       "\n",
       "   grain_yield  forage_yield  aboveground_residue  harvest_index  \\\n",
       "0       9.7736        0.0000               9.9166         0.4964   \n",
       "1       5.1894        0.0000               8.6783         0.3742   \n",
       "2       0.0000        0.0000               0.0003         0.0000   \n",
       "3       0.0000        0.0352               0.0019         0.0000   \n",
       "4       0.0000        0.0616               0.0032         0.0000   \n",
       "\n",
       "   potential_transpiration  ...  total_nitrogen  root_nitrogen  \\\n",
       "0                 351.6113  ...        172.9068        18.3081   \n",
       "1                 355.9223  ...        381.2800        18.9876   \n",
       "2                 164.4539  ...          0.0000         0.0000   \n",
       "3                   4.1985  ...          2.0474         0.2815   \n",
       "4                   5.3329  ...          3.6718         0.4967   \n",
       "\n",
       "   grain_nitrogen  forage_nitrogen  cumulative_nitrogen_stress  \\\n",
       "0        106.5389           0.0000                      0.1739   \n",
       "1        214.8350           0.0000                      0.0000   \n",
       "2          0.0000           0.0000                      0.1170   \n",
       "3          0.0000           1.6489                      0.0000   \n",
       "4          0.0000           2.9706                      0.0000   \n",
       "\n",
       "   nitrogen_in_harvest  nitrogen_in_residue  nitrogen_concentration_in_forage  \\\n",
       "0             106.5389              48.0599                            0.0000   \n",
       "1             214.8350             147.4573                            0.0000   \n",
       "2               0.0000               0.0000                            0.0000   \n",
       "3               0.0000               0.3984                            4.6796   \n",
       "4               0.0000               0.7012                            4.8251   \n",
       "\n",
       "   nitrogen_fixation  nitrogen_auto_added  \n",
       "0             0.0000                  0.0  \n",
       "1           292.4141                  0.0  \n",
       "2             0.0000                  0.0  \n",
       "3             5.6090                  0.0  \n",
       "4             7.1169                  0.0  \n",
       "\n",
       "[5 rows x 23 columns]"
      ]
     },
     "execution_count": 2,
     "metadata": {},
     "output_type": "execute_result"
    }
   ],
   "source": [
    "from cycles import read_output\n",
    "harvest_df, units = read_output('./', 'CornSoyWheatPasture_demo', 'harvest')\n",
    "harvest_df.head()"
   ]
  },
  {
   "cell_type": "markdown",
   "id": "47850453",
   "metadata": {},
   "source": [
    "## Plot crop yield"
   ]
  },
  {
   "cell_type": "code",
   "execution_count": 3,
   "id": "591b1872",
   "metadata": {},
   "outputs": [
    {
     "data": {
      "image/png": "[encoded data removed]",
      "text/plain": [
       "<Figure size 640x480 with 1 Axes>"
      ]
     },
     "metadata": {},
     "output_type": "display_data"
    }
   ],
   "source": [
    "import matplotlib.pyplot as plt\n",
    "from cycles import plot_yield\n",
    "\n",
    "plt.rcParams.update({'font.size': 16})\n",
    "plot_yield(harvest_df)"
   ]
  }
 ],
 "metadata": {
  "kernelspec": {
   "display_name": "Python 3",
   "language": "python",
   "name": "python3"
  },
  "language_info": {
   "codemirror_mode": {
    "name": "ipython",
    "version": 3
   },
   "file_extension": ".py",
   "mimetype": "text/x-python",
   "name": "python",
   "nbconvert_exporter": "python",
   "pygments_lexer": "ipython3",
   "version": "3.14.0"
  }
 },
 "nbformat": 4,
 "nbformat_minor": 5
}
